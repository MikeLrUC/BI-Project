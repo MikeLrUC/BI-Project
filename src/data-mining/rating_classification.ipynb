{
 "cells": [
  {
   "cell_type": "markdown",
   "id": "a67745b0",
   "metadata": {},
   "source": [
    "# Rating Classification"
   ]
  },
  {
   "cell_type": "code",
   "execution_count": null,
   "id": "8eaa5b0c",
   "metadata": {},
   "outputs": [],
   "source": [
    "from load import main\n",
    "df = main()\n",
    "df"
   ]
  },
  {
   "cell_type": "code",
   "execution_count": null,
   "id": "1d29b775",
   "metadata": {},
   "outputs": [],
   "source": [
    "from sklearn.model_selection import KFold, cross_val_score"
   ]
  },
  {
   "cell_type": "code",
   "execution_count": null,
   "id": "034d05bd",
   "metadata": {},
   "outputs": [],
   "source": [
    "X = df.drop(\"rating\", axis=1).values\n",
    "y = df[\"rating\"].to_list()"
   ]
  }
 ],
 "metadata": {
  "kernelspec": {
   "display_name": "base",
   "language": "python",
   "name": "base"
  },
  "language_info": {
   "codemirror_mode": {
    "name": "ipython",
    "version": 3
   },
   "file_extension": ".py",
   "mimetype": "text/x-python",
   "name": "python",
   "nbconvert_exporter": "python",
   "pygments_lexer": "ipython3",
   "version": "3.9.6"
  }
 },
 "nbformat": 4,
 "nbformat_minor": 5
}
